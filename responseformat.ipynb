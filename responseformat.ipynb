{
 "cells": [
  {
   "cell_type": "code",
   "execution_count": null,
   "metadata": {},
   "outputs": [],
   "source": [
    "%pip install instructor"
   ]
  },
  {
   "cell_type": "code",
   "execution_count": 67,
   "metadata": {},
   "outputs": [],
   "source": [
    "import os\n",
    "from dotenv import load_dotenv\n",
    "\n",
    "load_dotenv()\n",
    "OPEN_API_KEY = os.getenv(\"OPEN_API_KEY\")"
   ]
  },
  {
   "cell_type": "code",
   "execution_count": 68,
   "metadata": {},
   "outputs": [],
   "source": [
    "from openai import OpenAI\n",
    "from pydantic import BaseModel, Field\n",
    "from typing import List\n",
    "import instructor\n",
    "\n",
    "class SubTask(BaseModel):\n",
    "    action: str\n",
    "    assignee: str\n",
    "    requires_tool : bool = Field(..., description=\"Does this require the use of a specific tool ?\")\n",
    "\n",
    "class Task(BaseModel):\n",
    "    sub_task:List[SubTask] = Field(..., description=\"List of sub tasks\")\n",
    "\n",
    "class ParsedPlan(BaseModel):\n",
    "    tasks : List[Task]\n",
    "messages= [\n",
    "        dict(\n",
    "            role=\"system\", \n",
    "            content=\"You help parse markdown into a structured format.\"),\n",
    "        dict(\n",
    "            role=\"user\",\n",
    "            content=f\"Here is the context about the plan including the available tools :\\n{context}\\n\\nThe plan: {plan}\")\n",
    "    ]\n"
   ]
  },
  {
   "cell_type": "code",
   "execution_count": 69,
   "metadata": {},
   "outputs": [],
   "source": [
    "## using openai \n",
    "openai_client = OpenAI( api_key=OPEN_API_KEY)   \n",
    "\n",
    "def get_plan_using_openai(plan:str, context:str): \n",
    "    return openai_client.beta.chat.completions.parse(\n",
    "            response_format=ParsedPlan,\n",
    "            model=\"gpt-4o\",\n",
    "            messages= messages\n",
    "        )"
   ]
  },
  {
   "cell_type": "code",
   "execution_count": 70,
   "metadata": {},
   "outputs": [],
   "source": [
    "## using instructor\n",
    "client = instructor.from_openai(OpenAI(api_key=OPEN_API_KEY))\n",
    "def get_plan_using_instructor(plan:str, context:str): \n",
    "    return client.chat.completions.create(\n",
    "            response_model=ParsedPlan,\n",
    "            model=\"gpt-4o\",\n",
    "            messages= messages\n",
    "        )"
   ]
  },
  {
   "cell_type": "code",
   "execution_count": 71,
   "metadata": {},
   "outputs": [],
   "source": [
    "plan = \"\"\"## Step 1: Prepare for Workspace Creation\\n\\n\n",
    "### 1.1 Verify Permissions\\n- ensure you have the necessary permissions to create resources in Azure subscription. \\n\n",
    "Typically, you need to be an Owner or Contributor on the subscription. \\n\\n\n",
    "### 1.2 Gather Prerequisites\\n - Subscription ID\\n- Resource Group (create a new one if necessary)\\n- Region where the workspace will be created\\n- Storage account details (if you plan to use an existing one)\\n\\n\n",
    "## Step 2: Access Azure Portal\\n\\n\n",
    "### 2.1 Log In\\n- Navigate to the [Azure Portal](https://portal.azure.come).\\n- Log in with your Azure Credentials.\\n\\n\n",
    "## Step 3: Create the Synapse Workspace\\n\\n\n",
    "### 3.1 Navigate to Synapse Service\\n- In the Azure portal, click on 'Create a resource'.\\n- Search for 'Azure Synapse Analytics' and select it.\\n\\n\n",
    "### 3.2 Start the creation Process\\n- Click on the 'Create' button to start the workspace creation process.\n",
    "\"\"\"\n",
    "context = \"I have access to Azure portal and Azure Synapse workspace\"\n"
   ]
  },
  {
   "cell_type": "code",
   "execution_count": 76,
   "metadata": {},
   "outputs": [
    {
     "name": "stdout",
     "output_type": "stream",
     "text": [
      "sub_task=[SubTask(action='Ensure you have the necessary permissions to create resources in Azure subscription. Typically, you need to be an Owner or Contributor on the subscription.', assignee='', requires_tool=False), SubTask(action='Gather the following prerequisites: Subscription ID, Resource Group (create a new one if necessary), Region where the workspace will be created, Storage account details (if using an existing one)', assignee='', requires_tool=False)]\n",
      "\n",
      "\n",
      "sub_task=[SubTask(action='Navigate to the Azure Portal.', assignee='', requires_tool=True), SubTask(action='Log in with your Azure Credentials.', assignee='', requires_tool=True)]\n",
      "\n",
      "\n",
      "sub_task=[SubTask(action=\"In the Azure portal, click on 'Create a resource'. Search for 'Azure Synapse Analytics' and select it.\", assignee='', requires_tool=True), SubTask(action=\"Click on the 'Create' button to start the workspace creation process.\", assignee='', requires_tool=True)]\n",
      "\n",
      "\n"
     ]
    }
   ],
   "source": [
    "result = get_plan_using_openai(plan=plan, context=context)\n",
    "#print(result.choices[0].message.parsed)\n",
    "for t in result.choices[0].message.parsed.tasks:\n",
    "    print(t)\n",
    "    print('\\n')"
   ]
  },
  {
   "cell_type": "code",
   "execution_count": 73,
   "metadata": {},
   "outputs": [
    {
     "name": "stdout",
     "output_type": "stream",
     "text": [
      "sub_task=[SubTask(action='Ensure you have the necessary permissions to create resources in Azure subscription.', assignee='Owner or Contributor on the subscription', requires_tool=False)]\n",
      "\n",
      "\n",
      "sub_task=[SubTask(action='Gather Subscription ID, Resource Group, Region, and Storage account details (if using an existing one).', assignee='Individual creating the workspace', requires_tool=False)]\n",
      "\n",
      "\n",
      "sub_task=[SubTask(action='Navigate to the Azure Portal and log in with your Azure Credentials.', assignee='Individual accessing Azure Portal', requires_tool=False)]\n",
      "\n",
      "\n",
      "sub_task=[SubTask(action=\"In the Azure portal, click on 'Create a resource' and search for 'Azure Synapse Analytics'.\", assignee='Individual creating Synapse Workspace', requires_tool=False)]\n",
      "\n",
      "\n",
      "sub_task=[SubTask(action=\"Click on the 'Create' button to start the workspace creation process.\", assignee='Individual creating Synapse Workspace', requires_tool=False)]\n",
      "\n",
      "\n"
     ]
    }
   ],
   "source": [
    "result = get_plan_using_instructor(plan=plan, context=context)\n",
    "for t in result.tasks:\n",
    "    print(t)\n",
    "    print('\\n')"
   ]
  }
 ],
 "metadata": {
  "kernelspec": {
   "display_name": ".venv",
   "language": "python",
   "name": "python3"
  },
  "language_info": {
   "codemirror_mode": {
    "name": "ipython",
    "version": 3
   },
   "file_extension": ".py",
   "mimetype": "text/x-python",
   "name": "python",
   "nbconvert_exporter": "python",
   "pygments_lexer": "ipython3",
   "version": "3.11.3"
  }
 },
 "nbformat": 4,
 "nbformat_minor": 2
}
