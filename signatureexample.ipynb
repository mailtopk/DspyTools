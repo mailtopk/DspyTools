{
 "cells": [
  {
   "cell_type": "code",
   "execution_count": 12,
   "metadata": {},
   "outputs": [],
   "source": [
    "import dspy\n",
    "import os\n",
    "from dotenv import load_dotenv\n",
    "\n",
    "load_dotenv()\n",
    "\n",
    "OPEN_API_KEY = os.getenv(\"OPEN_API_KEY\")\n",
    "\n",
    "gpt_4o = dspy.OpenAI(model=\"gpt-4o\", api_key=OPEN_API_KEY)\n",
    "dspy.configure(lm=gpt_4o)"
   ]
  },
  {
   "cell_type": "markdown",
   "metadata": {},
   "source": [
    "COT example"
   ]
  },
  {
   "cell_type": "code",
   "execution_count": 20,
   "metadata": {},
   "outputs": [
    {
     "name": "stdout",
     "output_type": "stream",
     "text": [
      "The sky is blue, oh so blue,  \n",
      "In the daytime, it's a hue,  \n",
      "Scattered light, short waves in view,  \n",
      "Makes the sky a sapphire blue.\n"
     ]
    }
   ],
   "source": [
    "class BasicQA(dspy.Signature):\n",
    "    \"\"\"Answer questions with short factoid answer.\"\"\"\n",
    "\n",
    "    question = dspy.InputField()\n",
    "    answer = dspy.OutputField(desc=\"describe as detail as possible in a form of a song\")\n",
    "\n",
    "generate_cot = dspy.ChainOfThought(BasicQA)\n",
    "\n",
    "question = \"What is color of the sky ?\"\n",
    "hint = \"It's what yo often see during a sunny day.\"\n",
    "\n",
    "pred = generate_cot(question=question, hint=hint)\n",
    "\n",
    "print(pred.answer)"
   ]
  }
 ],
 "metadata": {
  "kernelspec": {
   "display_name": ".venv",
   "language": "python",
   "name": "python3"
  },
  "language_info": {
   "codemirror_mode": {
    "name": "ipython",
    "version": 3
   },
   "file_extension": ".py",
   "mimetype": "text/x-python",
   "name": "python",
   "nbconvert_exporter": "python",
   "pygments_lexer": "ipython3",
   "version": "3.11.3"
  }
 },
 "nbformat": 4,
 "nbformat_minor": 2
}
