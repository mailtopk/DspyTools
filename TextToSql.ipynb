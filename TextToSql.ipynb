{
 "cells": [
  {
   "cell_type": "code",
   "execution_count": 5,
   "metadata": {},
   "outputs": [],
   "source": [
    "import dspy\n",
    "from helper import lm\n",
    "dspy.settings.configure(lm=lm())"
   ]
  },
  {
   "cell_type": "code",
   "execution_count": 6,
   "metadata": {},
   "outputs": [],
   "source": [
    "class TextToSQL(dspy.Signature):\n",
    "    \"\"\"Transform a natural language query into a SQL query.\"\"\"\n",
    "\n",
    "    sql_prompt = dspy.InputField(desc=\"Natural language query\")\n",
    "    sql_context = dspy.InputField(desc=\"Context for the query\")\n",
    "    sql_output = dspy.OutputField(desc=\"SQL query\")"
   ]
  },
  {
   "cell_type": "code",
   "execution_count": 24,
   "metadata": {},
   "outputs": [
    {
     "name": "stdout",
     "output_type": "stream",
     "text": [
      "\n",
      "RATIONALE\n",
      "\n",
      "produce the sql_output. We need to select the `id` values from `test_a` that do not exist in `test_b`. This can be achieved using a `LEFT JOIN` or a `NOT IN` clause. For simplicity, we will use the `NOT IN` clause to filter out the `id` values from `test_a` that are present in `test_b`.\n",
      "\n",
      "SQL_OUTPUT\n",
      "\n",
      "```sql\n",
      "SELECT id\n",
      "FROM test_a\n",
      "WHERE id NOT IN (SELECT id FROM test_b);\n",
      "```\n"
     ]
    }
   ],
   "source": [
    "predict = dspy.ChainOfThought(TextToSQL)\n",
    "\n",
    "result = predict(\n",
    "    sql_prompt = \"\"\"Write a query to fetch values in table test_a that are not in test_b\"\"\",\n",
    "    sql_context = \"\"\"Table test_a schema is test_a(id INT).\n",
    "    Table test_b schema is test_b(id INT)\"\"\"\n",
    ")\n",
    "\n",
    "for key, value in result.items():\n",
    "    print(f\"\\n{key.upper()}\\n\")\n",
    "    print(value)\n",
    "\n",
    "        "
   ]
  },
  {
   "cell_type": "markdown",
   "metadata": {},
   "source": [
    "### Try relation table"
   ]
  },
  {
   "cell_type": "code",
   "execution_count": 28,
   "metadata": {},
   "outputs": [
    {
     "name": "stdout",
     "output_type": "stream",
     "text": [
      "\n",
      "RATIONALE\n",
      "\n",
      "produce the sql_output. We need to:\n",
      "\n",
      "1. Identify the employees who took the same training lesson more than once on the same day.\n",
      "2. Group the results by employee and training lesson.\n",
      "3. Order the results by the most recent training date to the oldest date.\n",
      "\n",
      "To achieve this, we will:\n",
      "1. Use a subquery to count the occurrences of each training lesson taken by each employee on each day.\n",
      "2. Filter the subquery to include only those records where the count is greater than one.\n",
      "3. Join the filtered results back with the original training detail table to get the complete details.\n",
      "4. Group by employee and training lesson.\n",
      "5. Order the results by training date in descending order.\n",
      "\n",
      "Here is the SQL query:\n",
      "\n",
      "Sql\n",
      "\n",
      "SQL_OUTPUT\n",
      "\n",
      "```sql\n",
      "SELECT \n",
      "    e.emp_id, \n",
      "    e.emp_name, \n",
      "    t.training_id, \n",
      "    t.training_date\n",
      "FROM \n",
      "    Employee e\n",
      "JOIN \n",
      "    TrainingDetail t ON e.emp_id = t.emp_id\n",
      "JOIN (\n",
      "    SELECT \n",
      "        emp_id, \n",
      "        training_id, \n",
      "        training_date, \n",
      "        COUNT(*) as training_count\n"
     ]
    }
   ],
   "source": [
    "predict = dspy.ChainOfThought(TextToSQL)\n",
    "\n",
    "result = predict(\n",
    "    sql_prompt = \"\"\"Get list of employees who took a training lesson more than once in the same day, group by user and training lesson, \n",
    "    each ordered from the most recent lesson date to oldest date\"\"\",\n",
    "    sql_context = \"\"\"Employee table schema is, (emp_id INT, emp_name VARCHAR(500))\n",
    "      Training detail table schema is,() emp_training_id INT, emp_id INT, training_id INT, training_date DATE)\"\"\"\n",
    ")\n",
    "\n",
    "for key, value in result.items():\n",
    "    print(f\"\\n{key.upper()}\\n\")\n",
    "    print(value)"
   ]
  }
 ],
 "metadata": {
  "kernelspec": {
   "display_name": ".venv",
   "language": "python",
   "name": "python3"
  },
  "language_info": {
   "codemirror_mode": {
    "name": "ipython",
    "version": 3
   },
   "file_extension": ".py",
   "mimetype": "text/x-python",
   "name": "python",
   "nbconvert_exporter": "python",
   "pygments_lexer": "ipython3",
   "version": "3.11.3"
  }
 },
 "nbformat": 4,
 "nbformat_minor": 2
}
