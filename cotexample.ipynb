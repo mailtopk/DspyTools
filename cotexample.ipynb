{
 "cells": [
  {
   "cell_type": "code",
   "execution_count": 1,
   "metadata": {},
   "outputs": [
    {
     "name": "stderr",
     "output_type": "stream",
     "text": [
      "c:\\Users\\ppoob\\Personal\\src\\DspyTools\\.venv\\Lib\\site-packages\\tqdm\\auto.py:21: TqdmWarning: IProgress not found. Please update jupyter and ipywidgets. See https://ipywidgets.readthedocs.io/en/stable/user_install.html\n",
      "  from .autonotebook import tqdm as notebook_tqdm\n"
     ]
    }
   ],
   "source": [
    "import dspy\n",
    "from helper import lm\n",
    "dspy.settings.configure(lm=lm())"
   ]
  },
  {
   "cell_type": "code",
   "execution_count": 7,
   "metadata": {},
   "outputs": [],
   "source": [
    "class CTO(dspy.Signature):\n",
    "    \"\"\"Solve math problems\"\"\"\n",
    "\n",
    "    question_prompt = dspy.InputField(desc=\"Question\")\n",
    "    answer_output = dspy.OutputField(desc=\"Answer\")"
   ]
  },
  {
   "cell_type": "code",
   "execution_count": 8,
   "metadata": {},
   "outputs": [],
   "source": [
    "predict = dspy.ChainOfThought(CTO)\n",
    "\n",
    "result = predict(\n",
    "    question_prompt = \"\"\"\n",
    "    John has 5 tennis balls. He buy 2 more cans of tennis balls. \n",
    "    Each can have 3 tennis balls. How many tennis balls does he have now\n",
    "    \"\"\",\n",
    ")"
   ]
  },
  {
   "cell_type": "code",
   "execution_count": 10,
   "metadata": {},
   "outputs": [
    {
     "name": "stdout",
     "output_type": "stream",
     "text": [
      "\n",
      "RATIONALE\n",
      "\n",
      "Reasoning: Let's think step by step in order to produce the answer output. We start by noting that John initially has 5 tennis balls. He then buys 2 more cans of tennis balls, with each can containing 3 tennis balls. To find out how many tennis balls he buys, we multiply the number of cans by the number of tennis balls per can: \\(2 \\text{ cans} \\times 3 \\text{ tennis balls per can} = 6 \\text{ tennis balls}\\). Adding these 6 tennis balls to the 5 tennis balls he already has, we get \\(5 + 6 = 11\\) tennis balls.\n",
      "\n",
      "ANSWER_OUTPUT\n",
      "\n",
      "11\n"
     ]
    }
   ],
   "source": [
    "for key, value in result.items():\n",
    "    print(f\"\\n{key.upper()}\\n\")\n",
    "    print(value)"
   ]
  }
 ],
 "metadata": {
  "kernelspec": {
   "display_name": ".venv",
   "language": "python",
   "name": "python3"
  },
  "language_info": {
   "codemirror_mode": {
    "name": "ipython",
    "version": 3
   },
   "file_extension": ".py",
   "mimetype": "text/x-python",
   "name": "python",
   "nbconvert_exporter": "python",
   "pygments_lexer": "ipython3",
   "version": "3.11.3"
  }
 },
 "nbformat": 4,
 "nbformat_minor": 2
}
